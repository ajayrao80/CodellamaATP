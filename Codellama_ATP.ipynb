{
  "nbformat": 4,
  "nbformat_minor": 0,
  "metadata": {
    "colab": {
      "provenance": [],
      "collapsed_sections": [
        "HVzxWNo_sARw",
        "ZMpS-nbQsfQJ",
        "-xHhzLTftz2e"
      ],
      "authorship_tag": "ABX9TyPHs1rENMyK7t2HbVDjJVY3",
      "include_colab_link": true
    },
    "kernelspec": {
      "name": "python3",
      "display_name": "Python 3"
    },
    "language_info": {
      "name": "python"
    }
  },
  "cells": [
    {
      "cell_type": "markdown",
      "metadata": {
        "id": "view-in-github",
        "colab_type": "text"
      },
      "source": [
        "<a href=\"https://colab.research.google.com/github/ajayrao80/CodellamaATP/blob/main/Codellama_ATP.ipynb\" target=\"_parent\"><img src=\"https://colab.research.google.com/assets/colab-badge.svg\" alt=\"Open In Colab\"/></a>"
      ]
    },
    {
      "cell_type": "markdown",
      "source": [
        "# **Data Preparation**"
      ],
      "metadata": {
        "id": "HVzxWNo_sARw"
      }
    },
    {
      "cell_type": "code",
      "execution_count": null,
      "metadata": {
        "id": "RXCKivKYrgK3"
      },
      "outputs": [],
      "source": [
        "from google.colab import drive\n",
        "drive.mount('/content/drive')"
      ]
    },
    {
      "cell_type": "code",
      "source": [
        "!pip install ndjson"
      ],
      "metadata": {
        "id": "DXHBe3vArieJ"
      },
      "execution_count": null,
      "outputs": []
    },
    {
      "cell_type": "code",
      "source": [
        "import ndjson\n",
        "import numpy as np\n",
        "\n",
        "data_path = \"/content/drive/MyDrive/Research/DiF-H/Dataset/processed/proofstep-train.jsonl\"\n",
        "\n",
        "with open(data_path) as f:\n",
        "  list_data_dict = ndjson.load(f)\n",
        "\n",
        "\n",
        "np.random.shuffle(list_data_dict)\n",
        "list_data_dict[0]"
      ],
      "metadata": {
        "id": "XoQi_T-Krigh"
      },
      "execution_count": null,
      "outputs": []
    },
    {
      "cell_type": "code",
      "source": [
        "data_path_eval = \"/content/drive/MyDrive/Research/DiF-H/Dataset/processed/proofstep-val.jsonl\"\n",
        "\n",
        "with open(data_path_eval) as f:\n",
        "  list_data_dict_eval = ndjson.load(f)\n",
        "\n",
        "list_data_dict_eval[0]\n"
      ],
      "metadata": {
        "id": "QLZnrHcirpvE"
      },
      "execution_count": null,
      "outputs": []
    },
    {
      "cell_type": "code",
      "source": [
        "dataset_train_dict = { \"input\":[], \"output\":[] }\n",
        "\n",
        "for datapoint in list_data_dict:\n",
        "  dataset_train_dict[\"input\"].append(datapoint[\"input\"])\n",
        "  dataset_train_dict[\"output\"].append(datapoint[\"output\"])\n",
        "\n",
        "dataset_eval_dict = { \"input\":[], \"output\":[] }\n",
        "\n",
        "for datapoint in list_data_dict_eval:\n",
        "  dataset_eval_dict[\"input\"].append(datapoint[\"input\"])\n",
        "  dataset_eval_dict[\"output\"].append(datapoint[\"output\"])\n",
        "\n",
        "dataset_train_dict"
      ],
      "metadata": {
        "id": "CVV4Ulhfrpxn"
      },
      "execution_count": null,
      "outputs": []
    },
    {
      "cell_type": "code",
      "source": [
        "!pip install git+https://github.com/huggingface/transformers.git@main bitsandbytes accelerate #==0.20.3  # we need latest transformers for this\n",
        "!pip install git+https://github.com/huggingface/peft.git@e536616888d51b453ed354a6f1e243fecb02ea08\n",
        "#!pip install git+https://github.com/huggingface/peft.git\n",
        "!pip install datasets==2.10.1\n",
        "import locale # colab workaround\n",
        "#locale.getpreferredencoding = lambda x: \"UTF-8\" # colab workaround\n",
        "def getpreferredencoding(do_setlocale = True):\n",
        "    return \"UTF-8\"\n",
        "locale.getpreferredencoding = getpreferredencoding\n",
        "!pip install wandb"
      ],
      "metadata": {
        "id": "MuNPp8cerp0I"
      },
      "execution_count": null,
      "outputs": []
    },
    {
      "cell_type": "code",
      "source": [
        "from datasets import Dataset\n",
        "\n",
        "train_dataset = Dataset.from_dict(dataset_train_dict)\n",
        "eval_dataset = Dataset.from_dict(dataset_eval_dict)"
      ],
      "metadata": {
        "id": "7T8II6NmsRDQ"
      },
      "execution_count": null,
      "outputs": []
    },
    {
      "cell_type": "code",
      "source": [
        "train_dataset"
      ],
      "metadata": {
        "id": "DqZxZ5QFsRFo"
      },
      "execution_count": null,
      "outputs": []
    },
    {
      "cell_type": "code",
      "source": [
        "eval_dataset"
      ],
      "metadata": {
        "id": "ss29hnHEsRIR"
      },
      "execution_count": null,
      "outputs": []
    },
    {
      "cell_type": "markdown",
      "source": [
        "# **Load Model and Train model**"
      ],
      "metadata": {
        "id": "ZMpS-nbQsfQJ"
      }
    },
    {
      "cell_type": "code",
      "source": [
        "from datetime import datetime\n",
        "import os\n",
        "import sys\n",
        "import torch\n",
        "from torch.utils.checkpoint import checkpoint\n",
        "from peft import (\n",
        "    LoraConfig,\n",
        "    get_peft_model,\n",
        "    get_peft_model_state_dict,\n",
        "    prepare_model_for_int8_training,\n",
        "    set_peft_model_state_dict,\n",
        ")\n",
        "from transformers import AutoTokenizer, AutoModelForCausalLM, TrainingArguments, Trainer, DataCollatorForSeq2Seq,AutoConfig,GPTNeoXForCausalLM"
      ],
      "metadata": {
        "id": "vipjxZ-psikg"
      },
      "execution_count": null,
      "outputs": []
    },
    {
      "cell_type": "code",
      "source": [
        "base_model = \"codellama/CodeLlama-7b-hf\"\n",
        "model = AutoModelForCausalLM.from_pretrained(\n",
        "    base_model,\n",
        "    load_in_8bit=True,\n",
        "    torch_dtype=torch.float16,\n",
        "    device_map=\"auto\",\n",
        ")\n",
        "\n",
        "tokenizer = AutoTokenizer.from_pretrained(base_model)"
      ],
      "metadata": {
        "id": "25ZStmfbsiiA"
      },
      "execution_count": null,
      "outputs": []
    },
    {
      "cell_type": "code",
      "source": [
        "tokenizer.add_eos_token = True\n",
        "tokenizer.pad_token_id = 0\n",
        "tokenizer.padding_side = \"left\""
      ],
      "metadata": {
        "id": "S5muiG86siff"
      },
      "execution_count": null,
      "outputs": []
    },
    {
      "cell_type": "code",
      "source": [
        "def tokenize(prompt, add_eos_token=True, CUTOFF_LEN=2048): #1024\n",
        "    result = tokenizer(\n",
        "        prompt,\n",
        "        truncation=True,\n",
        "        max_length=CUTOFF_LEN,\n",
        "        padding=False,\n",
        "        return_tensors=None,\n",
        "    )\n",
        "\n",
        "    result[\"labels\"] = result[\"input_ids\"].copy()\n",
        "    return result"
      ],
      "metadata": {
        "id": "bihZK1LxsiX4"
      },
      "execution_count": null,
      "outputs": []
    },
    {
      "cell_type": "code",
      "source": [
        "# generate and tokenize prompt for Lean dataset\n",
        "def generate_and_tokenize_prompt(data_point):\n",
        "    full_prompt =f\"\"\"\n",
        "    ### Input:\n",
        "    {data_point[\"input\"]}\n",
        "\n",
        "    ### Response:\n",
        "    {data_point[\"output\"]}{tokenizer.eos_token}\n",
        "    \"\"\"\n",
        "    return tokenize(full_prompt)"
      ],
      "metadata": {
        "id": "a89X5OW2sv_Y"
      },
      "execution_count": null,
      "outputs": []
    },
    {
      "cell_type": "code",
      "source": [
        "# Tokenized dataset\n",
        "tokenized_train_dataset = train_dataset.map(generate_and_tokenize_prompt, remove_columns=list(train_dataset.features))\n",
        "tokenized_val_dataset = eval_dataset.map(generate_and_tokenize_prompt, remove_columns=list(eval_dataset.features))"
      ],
      "metadata": {
        "id": "hNXEzXtIsv8v"
      },
      "execution_count": null,
      "outputs": []
    },
    {
      "cell_type": "code",
      "source": [
        "model.train() # put model back into training mode\n",
        "model = prepare_model_for_int8_training(model)\n",
        "\n",
        "config = LoraConfig(\n",
        "    r=16,\n",
        "    lora_alpha=16, #16\n",
        "    target_modules=[\n",
        "    \"q_proj\",\n",
        "    \"k_proj\",\n",
        "    \"v_proj\",\n",
        "    \"o_proj\",\n",
        "    ],\n",
        "    lora_dropout=0.05,\n",
        "    bias=\"none\",\n",
        "    task_type=\"CAUSAL_LM\",\n",
        ")\n",
        "\n",
        "model = get_peft_model(model, config)"
      ],
      "metadata": {
        "id": "I5w7JyWMsv6g"
      },
      "execution_count": null,
      "outputs": []
    },
    {
      "cell_type": "code",
      "source": [
        "resume_from_checkpoint = \"\"  # For resuming from a checkpoint, insert the .bin file path\n",
        "\n",
        "if resume_from_checkpoint:\n",
        "    if os.path.exists(resume_from_checkpoint):\n",
        "        print(f\"Restarting from {resume_from_checkpoint}\")\n",
        "        adapters_weights = torch.load(resume_from_checkpoint)\n",
        "        #adapters_weights = torch.load(resume_from_checkpoint)\n",
        "        set_peft_model_state_dict(model, adapters_weights)\n",
        "    else:\n",
        "        print(f\"Checkpoint {resume_from_checkpoint} not found\")"
      ],
      "metadata": {
        "id": "v6ORRZzZs6jX"
      },
      "execution_count": null,
      "outputs": []
    },
    {
      "cell_type": "code",
      "source": [
        "# View training graphs\n",
        "\n",
        "wandb_project = \"DiF-Homunculus\"\n",
        "if len(wandb_project) > 0:\n",
        "    os.environ[\"WANDB_PROJECT\"] = wandb_project"
      ],
      "metadata": {
        "id": "YD9WahKxs6l3"
      },
      "execution_count": null,
      "outputs": []
    },
    {
      "cell_type": "code",
      "source": [
        "if torch.cuda.device_count() > 1:\n",
        "    # keeps Trainer from trying its own DataParallelism when more than 1 gpu is available\n",
        "    model.is_parallelizable = True\n",
        "    model.model_parallel = True"
      ],
      "metadata": {
        "id": "WObR32exs6oh"
      },
      "execution_count": null,
      "outputs": []
    },
    {
      "cell_type": "code",
      "source": [
        "batch_size = 32\n",
        "per_device_train_batch_size = 4\n",
        "gradient_accumulation_steps = 4 #batch_size // per_device_train_batch_size #4\n",
        "output_dir = \"/content/drive/MyDrive/Research/DiF-H/Checkpoints/\"\n",
        "\n",
        "training_args = TrainingArguments(\n",
        "        per_device_train_batch_size=per_device_train_batch_size,\n",
        "        gradient_accumulation_steps=gradient_accumulation_steps,\n",
        "        warmup_steps=100, #100,\n",
        "        #max_steps=400,\n",
        "        num_train_epochs=1,\n",
        "        learning_rate=3e-4,\n",
        "        fp16=True,\n",
        "        #lr_scheduler_type=\"cosine\",\n",
        "        logging_steps=10,\n",
        "        optim=\"adamw_torch\", #\"paged_adamw_32bit\", #\"adamw_torch\",\n",
        "        evaluation_strategy=\"steps\", # if val_set_size > 0 else \"no\",\n",
        "        save_strategy=\"steps\",\n",
        "        eval_steps=1000, #20,\n",
        "        save_steps=1000,\n",
        "        output_dir=output_dir,\n",
        "        #warmup_ratio=0.03,\n",
        "        #weight_decay=0.005,\n",
        "        # save_total_limit=3,\n",
        "        #load_best_model_at_end=True,\n",
        "        # ddp_find_unused_parameters=False if ddp else None,\n",
        "        group_by_length=True, # group sequences of roughly the same length together to speed up training\n",
        "        report_to=\"wandb\", # if use_wandb else \"none\",\n",
        "        run_name=f\"codellama-{datetime.now().strftime('%Y-%m-%d-%H-%M')}\", # if use_wandb else None,\n",
        "    )\n",
        "\n",
        "trainer = Trainer(\n",
        "    model=model,\n",
        "    train_dataset=tokenized_train_dataset,\n",
        "    eval_dataset=tokenized_val_dataset,\n",
        "    args=training_args,\n",
        "    data_collator=DataCollatorForSeq2Seq(\n",
        "        tokenizer, pad_to_multiple_of=8, return_tensors=\"pt\", padding=True\n",
        "    ),\n",
        ")"
      ],
      "metadata": {
        "id": "9qx6fRZVtXSv"
      },
      "execution_count": null,
      "outputs": []
    },
    {
      "cell_type": "code",
      "source": [
        "# Compile the model\n",
        "model.config.use_cache = False\n",
        "\n",
        "old_state_dict = model.state_dict\n",
        "model.state_dict = (lambda self, *_, **__: get_peft_model_state_dict(self, old_state_dict())).__get__(\n",
        "    model, type(model)\n",
        ")\n",
        "if torch.__version__ >= \"2\" and sys.platform != \"win32\":\n",
        "    print(\"compiling the model\")\n",
        "    model = torch.compile(model)"
      ],
      "metadata": {
        "id": "qvAZ0CumtXVG"
      },
      "execution_count": null,
      "outputs": []
    },
    {
      "cell_type": "code",
      "source": [
        "trainer.train()"
      ],
      "metadata": {
        "id": "mJrgN5fatXdG"
      },
      "execution_count": null,
      "outputs": []
    },
    {
      "cell_type": "code",
      "source": [
        "trainer.save_model(\"./DiF-Homunculus-v1\")"
      ],
      "metadata": {
        "id": "uC74U4VAuSTu"
      },
      "execution_count": null,
      "outputs": []
    },
    {
      "cell_type": "markdown",
      "source": [
        "# **Inference with checkpoint model**"
      ],
      "metadata": {
        "id": "-xHhzLTftz2e"
      }
    },
    {
      "cell_type": "code",
      "source": [
        "from datetime import datetime\n",
        "import os\n",
        "import sys\n",
        "import torch\n",
        "from torch.utils.checkpoint import checkpoint\n",
        "from peft import (\n",
        "    LoraConfig,\n",
        "    get_peft_model,\n",
        "    get_peft_model_state_dict,\n",
        "    prepare_model_for_int8_training,\n",
        "    set_peft_model_state_dict,\n",
        ")"
      ],
      "metadata": {
        "id": "XUcnJ4mktXfw"
      },
      "execution_count": null,
      "outputs": []
    },
    {
      "cell_type": "code",
      "source": [
        "import ndjson\n",
        "\n",
        "data_path_test = \"/content/drive/MyDrive/Research/DiF-H/Dataset/processed/proofstep-test.jsonl\"\n",
        "\n",
        "with open(data_path_test) as f:\n",
        "  list_data_dict_test = ndjson.load(f)\n",
        "\n",
        "list_data_dict_test[1]"
      ],
      "metadata": {
        "id": "3MTTY_dGtryf"
      },
      "execution_count": null,
      "outputs": []
    },
    {
      "cell_type": "code",
      "source": [
        "import torch\n",
        "from transformers import AutoModelForCausalLM, BitsAndBytesConfig, AutoTokenizer\n",
        "\n",
        "base_model = \"codellama/CodeLlama-7b-hf\" # \"wellecks/llmstep-mathlib4-pythia2.8b\"\n",
        "model = AutoModelForCausalLM.from_pretrained(\n",
        "    base_model,\n",
        "    load_in_8bit=False, #True,\n",
        "    torch_dtype=torch.float32,\n",
        "    device_map=\"auto\",\n",
        ")\n",
        "tokenizer = AutoTokenizer.from_pretrained(base_model)"
      ],
      "metadata": {
        "id": "rGhstqiCtr0-"
      },
      "execution_count": null,
      "outputs": []
    },
    {
      "cell_type": "code",
      "source": [
        "config = LoraConfig(\n",
        "    r=16,\n",
        "    lora_alpha=16,\n",
        "    target_modules=[\n",
        "    \"q_proj\",\n",
        "    \"k_proj\",\n",
        "    \"v_proj\",\n",
        "    \"o_proj\",\n",
        "],\n",
        "    lora_dropout=0.05,\n",
        "    bias=\"none\",\n",
        "    task_type=\"CAUSAL_LM\",\n",
        ")\n",
        "model = get_peft_model(model, config)\n",
        "\n",
        "resume_from_checkpoint = \"\" # Checkpoint path here\n",
        "\n",
        "if resume_from_checkpoint:\n",
        "    if os.path.exists(resume_from_checkpoint):\n",
        "        print(f\"Restarting from {resume_from_checkpoint}\")\n",
        "        adapters_weights = torch.load(resume_from_checkpoint, map_location=torch.device('cpu'))\n",
        "        set_peft_model_state_dict(model, adapters_weights)\n",
        "    else:\n",
        "        print(f\"Checkpoint {resume_from_checkpoint} not found\")"
      ],
      "metadata": {
        "id": "yca029Ovuusm"
      },
      "execution_count": null,
      "outputs": []
    },
    {
      "cell_type": "code",
      "source": [
        "eval_prompt = \"\"\"Prove\n",
        "### Input:\n",
        "|- ( ( K e. OML /\\\\ X e. B ) -> X C X )\n",
        "\n",
        "### Context:\n",
        "|- B = ( Base ` K ) \\n |- C = ( cm ` K )\n",
        "\n",
        "### Response:\n",
        "\"\"\"\n",
        "\n",
        "model_input = tokenizer(eval_prompt, return_tensors=\"pt\").to(\"cuda\")\n",
        "\n",
        "model.eval()\n",
        "#with torch.no_grad():\n",
        "print(tokenizer.decode(model.generate(**model_input, max_new_tokens=100)[0], skip_special_tokens=True))"
      ],
      "metadata": {
        "id": "cJVThb_Otr3g"
      },
      "execution_count": null,
      "outputs": []
    }
  ]
}